{
 "cells": [
  {
   "cell_type": "markdown",
   "id": "fcb50a4b",
   "metadata": {},
   "source": [
    "## Genrate an random number array find mean median and standard daviation"
   ]
  },
  {
   "cell_type": "code",
   "execution_count": 1,
   "id": "9d4f15e8",
   "metadata": {},
   "outputs": [],
   "source": [
    "import numpy as np"
   ]
  },
  {
   "cell_type": "code",
   "execution_count": 3,
   "id": "e54f8f80",
   "metadata": {},
   "outputs": [
    {
     "name": "stdout",
     "output_type": "stream",
     "text": [
      "[[21 15 26]\n",
      " [63 61 53]\n",
      " [15 31 28]]\n"
     ]
    }
   ],
   "source": [
    "x=np.random.randint(1,100,(3,3))\n",
    "print(x)"
   ]
  },
  {
   "cell_type": "code",
   "execution_count": 5,
   "id": "48e2abad",
   "metadata": {},
   "outputs": [
    {
     "name": "stdout",
     "output_type": "stream",
     "text": [
      "34.77777777777778\n"
     ]
    }
   ],
   "source": [
    "mean_x=np.mean(x)\n",
    "print(mean_x)"
   ]
  },
  {
   "cell_type": "code",
   "execution_count": 6,
   "id": "890dcceb",
   "metadata": {},
   "outputs": [
    {
     "name": "stdout",
     "output_type": "stream",
     "text": [
      "28.0\n"
     ]
    }
   ],
   "source": [
    "median_x=np.median(x)\n",
    "print(median_x)"
   ]
  },
  {
   "cell_type": "code",
   "execution_count": 7,
   "id": "cdb1ac67",
   "metadata": {},
   "outputs": [
    {
     "name": "stdout",
     "output_type": "stream",
     "text": [
      "18.029468333677\n"
     ]
    }
   ],
   "source": [
    "STD_x=np.std(x)\n",
    "print(STD_x)"
   ]
  },
  {
   "cell_type": "code",
   "execution_count": null,
   "id": "3dd9d435",
   "metadata": {},
   "outputs": [],
   "source": []
  }
 ],
 "metadata": {
  "kernelspec": {
   "display_name": "Python 3 (ipykernel)",
   "language": "python",
   "name": "python3"
  },
  "language_info": {
   "codemirror_mode": {
    "name": "ipython",
    "version": 3
   },
   "file_extension": ".py",
   "mimetype": "text/x-python",
   "name": "python",
   "nbconvert_exporter": "python",
   "pygments_lexer": "ipython3",
   "version": "3.11.3"
  }
 },
 "nbformat": 4,
 "nbformat_minor": 5
}
